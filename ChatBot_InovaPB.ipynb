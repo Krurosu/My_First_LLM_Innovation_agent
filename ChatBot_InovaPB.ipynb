{
  "nbformat": 4,
  "nbformat_minor": 0,
  "metadata": {
    "colab": {
      "provenance": [],
      "authorship_tag": "ABX9TyM5DbQ5TFBaIplJb7aIs4jT",
      "include_colab_link": true
    },
    "kernelspec": {
      "name": "python3",
      "display_name": "Python 3"
    },
    "language_info": {
      "name": "python"
    }
  },
  "cells": [
    {
      "cell_type": "markdown",
      "metadata": {
        "id": "view-in-github",
        "colab_type": "text"
      },
      "source": [
        "<a href=\"https://colab.research.google.com/github/Krurosu/My_First_LLM_Innovation_agent/blob/main/ChatBot_InovaPB.ipynb\" target=\"_parent\"><img src=\"https://colab.research.google.com/assets/colab-badge.svg\" alt=\"Open In Colab\"/></a>"
      ]
    },
    {
      "cell_type": "markdown",
      "source": [
        "Instalando o SDK do Google"
      ],
      "metadata": {
        "id": "DtZjYiO6yvyI"
      }
    },
    {
      "cell_type": "code",
      "execution_count": 3,
      "metadata": {
        "colab": {
          "base_uri": "https://localhost:8080/"
        },
        "id": "YTmXs79fxKYZ",
        "outputId": "d5141c84-9998-44a3-cde3-17394debd322"
      },
      "outputs": [
        {
          "output_type": "stream",
          "name": "stdout",
          "text": [
            "\n",
            "Usage:   \n",
            "  pip3 install [options] <requirement specifier> [package-index-options] ...\n",
            "  pip3 install [options] -r <requirements file> [package-index-options] ...\n",
            "  pip3 install [options] [-e] <vcs project url> ...\n",
            "  pip3 install [options] [-e] <local project path> ...\n",
            "  pip3 install [options] <archive url/path> ...\n",
            "\n",
            "no such option: -u\n"
          ]
        }
      ],
      "source": [
        "!pip install -q -u google-generativeai"
      ]
    },
    {
      "cell_type": "code",
      "source": [
        "import google.generativeai as genai\n",
        "from google.colab import userdata\n",
        "api_key = userdata.get('SECRET_KEY')\n",
        "genai.configure(api_key=api_key)"
      ],
      "metadata": {
        "id": "KLCcESiczP-9"
      },
      "execution_count": 5,
      "outputs": []
    },
    {
      "cell_type": "markdown",
      "source": [
        "Listar os modelos disponiveis"
      ],
      "metadata": {
        "id": "4UxyE0PE07Xc"
      }
    },
    {
      "cell_type": "code",
      "source": [
        "for m in genai.list_models():\n",
        "  if 'generateContent' in m.supported_generation_methods:\n",
        "    print(m.name)"
      ],
      "metadata": {
        "colab": {
          "base_uri": "https://localhost:8080/",
          "height": 139
        },
        "id": "MTa_Ti370-RS",
        "outputId": "0bd941f0-0b08-472e-bcf6-1d884be61744"
      },
      "execution_count": 7,
      "outputs": [
        {
          "output_type": "stream",
          "name": "stdout",
          "text": [
            "models/gemini-1.0-pro\n",
            "models/gemini-1.0-pro-001\n",
            "models/gemini-1.0-pro-latest\n",
            "models/gemini-1.0-pro-vision-latest\n",
            "models/gemini-1.5-pro-latest\n",
            "models/gemini-pro\n",
            "models/gemini-pro-vision\n"
          ]
        }
      ]
    },
    {
      "cell_type": "code",
      "source": [
        "Generation_Config = {\n",
        "    \"candidate_count\" :1,\n",
        "    \"temperature\" : 0.5,\n",
        "    \"top_p\" : 0.8,\n",
        "}"
      ],
      "metadata": {
        "id": "foWoeJw32jRj"
      },
      "execution_count": 8,
      "outputs": []
    },
    {
      "cell_type": "code",
      "source": [
        "Safety_Settings = {\n",
        "    \"HARASSMENT\" : \"BLOCK_NONE\",\n",
        "    \"SEXUAL\" : \"BLOCK_NONE\",\n",
        "    \"HATE\" : \"BLOCK_NONE\",\n",
        "    \"DANGEROUS\" : \"BLOCK_NONE\",\n",
        "}"
      ],
      "metadata": {
        "id": "juhBJX3x3kbT"
      },
      "execution_count": 18,
      "outputs": []
    },
    {
      "cell_type": "markdown",
      "source": [
        "INICIALIZANDO O MODELO\n"
      ],
      "metadata": {
        "id": "xGAE4xFn4gSU"
      }
    },
    {
      "cell_type": "code",
      "source": [
        "model = genai.GenerativeModel(model_name=\"gemini-1.0-pro\",\n",
        "                             generation_config=Generation_Config,\n",
        "                             safety_settings=Safety_Settings)"
      ],
      "metadata": {
        "id": "rDhg4uSQsRXM"
      },
      "execution_count": 19,
      "outputs": []
    },
    {
      "cell_type": "code",
      "source": [
        "response = model.generate_content(\"Vamos aprender conteúdo sobre IA e Inovação. Me de sugestões.\")\n",
        "print(response.text)"
      ],
      "metadata": {
        "colab": {
          "base_uri": "https://localhost:8080/",
          "height": 868
        },
        "id": "tY0B_brXsxSF",
        "outputId": "50c65b39-87be-4ef5-f966-5b64132ece10"
      },
      "execution_count": 21,
      "outputs": [
        {
          "output_type": "stream",
          "name": "stdout",
          "text": [
            "**IA (Inteligência Artificial)**\n",
            "\n",
            "* **Conceitos Fundamentais:**\n",
            "    * Aprendizado de Máquina\n",
            "    * Aprendizado Profundo\n",
            "    * Redes Neurais\n",
            "* **Aplicações da IA:**\n",
            "    * Reconhecimento de Imagem e Vídeo\n",
            "    * Processamento de Linguagem Natural\n",
            "    * Sistemas de Recomendação\n",
            "    * Veículos Autônomos\n",
            "* **Implicações Éticas e Sociais da IA:**\n",
            "    * Preconceito e Discriminação\n",
            "    * Perda de Empregos\n",
            "    * Privacidade e Vigilância\n",
            "\n",
            "**Inovação**\n",
            "\n",
            "* **Tipos de Inovação:**\n",
            "    * Inovação Incremental\n",
            "    * Inovação Radical\n",
            "    * Inovação Disruptiva\n",
            "* **Processo de Inovação:**\n",
            "    * Geração de Ideias\n",
            "    * Desenvolvimento e Teste\n",
            "    * Lançamento e Implementação\n",
            "* **Fatores que Impulsionam a Inovação:**\n",
            "    * Cultura Organizacional\n",
            "    * Investimento em P&D\n",
            "    * Colaboração e Parcerias\n",
            "* **Gestão da Inovação:**\n",
            "    * Estratégias de Inovação\n",
            "    * Medição e Avaliação\n",
            "    * Gestão de Riscos\n",
            "\n",
            "**IA e Inovação**\n",
            "\n",
            "* **IA como Ferramenta para Inovação:**\n",
            "    * Geração de Ideias\n",
            "    * Otimização de Processos\n",
            "    * Automação de Tarefas\n",
            "* **Inovação na IA:**\n",
            "    * Novos Algoritmos e Técnicas\n",
            "    * Aplicações Emergentes\n",
            "    * Avanços em Hardware e Software\n",
            "* **Implicações para Negócios e Indústrias:**\n",
            "    * Transformação Digital\n",
            "    * Novos Modelos de Negócios\n",
            "    * Aumento da Competitividade\n"
          ]
        }
      ]
    },
    {
      "cell_type": "code",
      "source": [
        "chat = model.start_chat(history=[])"
      ],
      "metadata": {
        "id": "duQUagCHuwsF"
      },
      "execution_count": 22,
      "outputs": []
    },
    {
      "cell_type": "code",
      "source": [
        "from ast import While\n",
        "prompt = input(\"Digite sua pergunta: \")\n",
        "\n",
        "while prompt != \"sair\":\n",
        "  response = chat.send_message(prompt)\n",
        "  print(\"Resposta: \",response.text, \"\\n\")\n",
        "  prompt = input(\"Digite sua pergunta: \")"
      ],
      "metadata": {
        "colab": {
          "base_uri": "https://localhost:8080/"
        },
        "id": "s4VBs2f9vG4r",
        "outputId": "fe2b919d-95e7-4b57-e226-a692aa32f687"
      },
      "execution_count": 28,
      "outputs": [
        {
          "name": "stdout",
          "output_type": "stream",
          "text": [
            "Digite sua pergunta: sair\n"
          ]
        }
      ]
    },
    {
      "cell_type": "code",
      "source": [
        "chat.history"
      ],
      "metadata": {
        "colab": {
          "base_uri": "https://localhost:8080/"
        },
        "id": "pXnJJEkzvc6s",
        "outputId": "a9591909-1739-4339-d156-96181faa677c"
      },
      "execution_count": 29,
      "outputs": [
        {
          "output_type": "execute_result",
          "data": {
            "text/plain": [
              "[parts {\n",
              "   text: \"que \\303\\251 inova\\303\\247\\303\\243o?\"\n",
              " }\n",
              " role: \"user\",\n",
              " parts {\n",
              "   text: \"**Inova\\303\\247\\303\\243o** \\303\\251 o processo de criar algo novo e valioso que melhora significativamente os produtos, servi\\303\\247os ou processos existentes ou cria novos. Envolve a gera\\303\\247\\303\\243o, desenvolvimento e implementa\\303\\247\\303\\243o de novas ideias e solu\\303\\247\\303\\265es para atender \\303\\240s necessidades n\\303\\243o atendidas ou resolver problemas existentes.\\n\\n**Caracter\\303\\255sticas da Inova\\303\\247\\303\\243o:**\\n\\n* **Novidade:** Cria algo que n\\303\\243o existia antes ou melhora significativamente algo existente.\\n* **Valor:** Fornece benef\\303\\255cios tang\\303\\255veis ou intang\\303\\255veis aos usu\\303\\241rios ou clientes.\\n* **Impacto:** Tem um efeito significativo na forma como as pessoas vivem, trabalham ou interagem com o mundo.\\n* **Sustentabilidade:** Pode ser mantida e replicada ao longo do tempo.\\n* **Difus\\303\\243o:** Espalha-se e \\303\\251 adotada por um n\\303\\272mero crescente de pessoas ou organiza\\303\\247\\303\\265es.\\n\\n**Tipos de Inova\\303\\247\\303\\243o:**\\n\\n* **Inova\\303\\247\\303\\243o de Produto:** Cria novos produtos ou aprimora produtos existentes.\\n* **Inova\\303\\247\\303\\243o de Processo:** Melhora os m\\303\\251todos de produ\\303\\247\\303\\243o, entrega ou atendimento ao cliente.\\n* **Inova\\303\\247\\303\\243o de Modelo de Neg\\303\\263cios:** Cria novos modelos de neg\\303\\263cios ou altera os existentes para criar valor.\\n* **Inova\\303\\247\\303\\243o Organizacional:** Altera a cultura, estrutura ou processos de uma organiza\\303\\247\\303\\243o para melhorar o desempenho.\\n* **Inova\\303\\247\\303\\243o Social:** Cria solu\\303\\247\\303\\265es para problemas sociais ou ambientais.\\n\\n**Import\\303\\242ncia da Inova\\303\\247\\303\\243o:**\\n\\n* Impulsiona o crescimento econ\\303\\264mico e a competitividade.\\n* Melhora a qualidade de vida e o bem-estar.\\n* Resolve problemas complexos e cria novas oportunidades.\\n* Aumenta a efici\\303\\252ncia e a produtividade.\\n* Fomenta o pensamento criativo e a resolu\\303\\247\\303\\243o de problemas.\"\n",
              " }\n",
              " role: \"model\",\n",
              " parts {\n",
              "   text: \"qual \\303\\251 a capitsal da Colombia?\"\n",
              " }\n",
              " role: \"user\",\n",
              " parts {\n",
              "   text: \"**Bogot\\303\\241**\"\n",
              " }\n",
              " role: \"model\"]"
            ]
          },
          "metadata": {},
          "execution_count": 29
        }
      ]
    },
    {
      "cell_type": "code",
      "source": [
        "import textwrap\n",
        "\n",
        "from IPython.display import display\n",
        "from IPython.display import Markdown\n",
        "\n",
        "\n",
        "def to_markdown(text):\n",
        "  text = text.replace('•', '  *')\n",
        "  return Markdown(textwrap.indent(text, '> ', predicate=lambda _: True))\n",
        "\n",
        "  #imprimindo o histórico\n",
        "  for message in chat.history:\n",
        "    display(to_markdown(f'**{message.role}**: {message.parts[0].text}'))\n",
        "    print('---------------------------------------------')"
      ],
      "metadata": {
        "id": "2esrpZ0RwyZO"
      },
      "execution_count": 31,
      "outputs": []
    },
    {
      "cell_type": "code",
      "source": [
        "from ast import While\n",
        "prompt = input(\"Digite sua pergunta: \")\n",
        "\n",
        "while prompt != \"sair\":\n",
        "  response = chat.send_message(prompt)\n",
        "  print(\"Resposta: \",response.text, \"\\n\")\n",
        "  prompt = input(\"Digite sua pergunta: \")"
      ],
      "metadata": {
        "colab": {
          "base_uri": "https://localhost:8080/",
          "height": 1000
        },
        "id": "Kci2YD_T1qPY",
        "outputId": "c07f8382-feff-49ad-c857-db5ee0af09f3"
      },
      "execution_count": 32,
      "outputs": [
        {
          "name": "stdout",
          "output_type": "stream",
          "text": [
            "Digite sua pergunta: aja como especialista em inovação . me fale que é inovação aberta?\n",
            "Resposta:  **Inovação Aberta** é um modelo de inovação que envolve a colaboração com parceiros externos, como clientes, fornecedores, universidades e startups, para gerar e desenvolver novas ideias e soluções.\n",
            "\n",
            "**Princípios da Inovação Aberta:**\n",
            "\n",
            "* **Compartilhamento de conhecimento:** Compartilhar ideias e recursos com parceiros externos para ampliar o pool de conhecimento e perspectivas.\n",
            "* **Colaboração:** Trabalhar em conjunto com parceiros para desenvolver e implementar novas soluções.\n",
            "* **Entrada externa:** Buscar ideias e soluções de fontes externas para complementar a inovação interna.\n",
            "* **Flexibilidade:** Adaptar-se às mudanças nas necessidades do mercado e às novas tecnologias por meio da colaboração com parceiros.\n",
            "* **Modelo de negócios:** Desenvolver modelos de negócios que recompensem a colaboração e a inovação aberta.\n",
            "\n",
            "**Benefícios da Inovação Aberta:**\n",
            "\n",
            "* **Acesso a ideias e recursos mais amplos:** Colaborar com parceiros externos expande o pool de conhecimento e recursos disponíveis para inovação.\n",
            "* **Redução de riscos:** Compartilhar riscos e custos de inovação com parceiros externos.\n",
            "* **Velocidade e eficiência:** A colaboração pode acelerar o processo de inovação e reduzir o tempo de lançamento no mercado.\n",
            "* **Novas perspectivas e ideias:** Os parceiros externos trazem novas perspectivas e ideias que podem desafiar suposições existentes e levar a soluções inovadoras.\n",
            "* **Ecossistema de inovação:** A inovação aberta promove a criação de ecossistemas de inovação onde empresas, startups, universidades e outras organizações colaboram para impulsionar a inovação.\n",
            "\n",
            "**Exemplos de Inovação Aberta:**\n",
            "\n",
            "* A Procter & Gamble (P&G) colabora com startups e universidades para desenvolver novos produtos e tecnologias.\n",
            "* A IBM criou um ecossistema de inovação aberta chamado \"IBM Watson Ecosystem\", onde desenvolvedores e parceiros podem colaborar para criar aplicativos e soluções baseados em IA.\n",
            "* A GE Healthcare fez parceria com hospitais e médicos para desenvolver novas tecnologias de diagnóstico e tratamento.\n",
            "\n",
            "A inovação aberta está se tornando cada vez mais importante em um mundo em rápida mudança, onde a colaboração e a troca de ideias são essenciais para impulsionar a inovação e manter a competitividade. \n",
            "\n",
            "Digite sua pergunta: cual es la capital de España\n",
            "Resposta:  **Madrid** \n",
            "\n",
            "Digite sua pergunta: cuales son los idiomas oficiales de españa?\n",
            "Resposta:  Los idiomas oficiales de España son:\n",
            "\n",
            "* **Español (castellano)**\n",
            "* **Catalán** (Cataluña, Islas Baleares, Comunidad Valenciana)\n",
            "* **Gallego** (Galicia)\n",
            "* **Euskera** (País Vasco y Navarra) \n",
            "\n",
            "Digite sua pergunta: how many socker world cups spain wins?\n",
            "Resposta:  Spain has won the FIFA World Cup **once**, in 2010. \n",
            "\n",
            "Digite sua pergunta: quanto tempo dura a gestação de um elefante ?\n",
            "Resposta:  A gestação de um elefante é a mais longa de todos os mamíferos, durando em média **22 meses** (cerca de 1,8 anos). \n",
            "\n",
            "Digite sua pergunta: cite 3 casais de one pice\n",
            "Resposta:  3 casais de One Piece:\n",
            "\n",
            "* **Monkey D. Luffy e Boa Hancock**\n",
            "* **Roronoa Zoro e Tashigi**\n",
            "* **Sanji e Pudding** \n",
            "\n",
            "Digite sua pergunta: cite 10 casais de one piece\n",
            "Resposta:  10 casais de One Piece:\n",
            "\n",
            "* Monkey D. Luffy e Boa Hancock\n",
            "* Roronoa Zoro e Tashigi\n",
            "* Sanji e Pudding\n",
            "* Nami e Usopp (implicado)\n",
            "* Franky e Robin (implicado)\n",
            "* Brook e Big Mom (implicado)\n",
            "* Jinbe e Charlotte Smoothie (implicado)\n",
            "* Smoker e Tashigi\n",
            "* Kuzan e Monet\n",
            "* Rayleigh e Shakky \n",
            "\n",
            "Digite sua pergunta: sair\n"
          ]
        }
      ]
    }
  ]
}